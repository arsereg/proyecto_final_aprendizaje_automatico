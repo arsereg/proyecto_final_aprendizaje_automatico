{
 "cells": [
  {
   "cell_type": "markdown",
   "id": "440ea5456ecf403a",
   "metadata": {},
   "source": [
    "# Parte 2\n",
    "Elaboración de autoencoders"
   ]
  },
  {
   "cell_type": "markdown",
   "id": "366eebda7042a70c",
   "metadata": {},
   "source": [
    "Acá se importan las librerías necesarias. También se importa el dataset MNIST."
   ]
  },
  {
   "cell_type": "code",
   "execution_count": 1,
   "id": "initial_id",
   "metadata": {
    "ExecuteTime": {
     "end_time": "2024-08-19T01:30:15.832218Z",
     "start_time": "2024-08-19T01:30:15.225318Z"
    },
    "collapsed": true
   },
   "outputs": [
    {
     "name": "stderr",
     "output_type": "stream",
     "text": [
      "Using TensorFlow backend.\n"
     ]
    }
   ],
   "source": [
    "from keras.layers import Input, Dense\n",
    "from keras.models import Model\n",
    "from keras.datasets import mnist\n",
    "from keras.datasets import fashion_mnist\n",
    "import numpy as np\n",
    "(x_train_mnist, _), (x_test_mnist, _) = mnist.load_data()\n",
    "(x_train_fashion_mnist, _), (x_test_fashion_mnist, _) = fashion_mnist.load_data()"
   ]
  },
  {
   "cell_type": "markdown",
   "id": "3c1dfae53415916",
   "metadata": {},
   "source": [
    "En este paso se normalizan los datos y se añade ruido a las imágenes. Se normalizan los datos dividiendo entre 255.0. Se define el parametro de ruido gaussiano que se agregará a las imágenes con un factor de 0.05."
   ]
  },
  {
   "cell_type": "code",
   "execution_count": 2,
   "id": "af3a09ec852cf16a",
   "metadata": {
    "ExecuteTime": {
     "end_time": "2024-08-19T01:30:15.867808Z",
     "start_time": "2024-08-19T01:30:15.833088Z"
    }
   },
   "outputs": [],
   "source": [
    "x_train = x_train.astype('float32') / 255.0\n",
    "x_test = x_test.astype('float32') / 255.0\n",
    "noise_rate = 0.05"
   ]
  },
  {
   "cell_type": "markdown",
   "id": "8f39923501232f36",
   "metadata": {},
   "source": [
    "Se añade ruido a las imágenes de entrenamiento y de prueba. Se añade ruido gaussiano a las imágenes con el factor definido anteriormente. Se limita el rango de los valores de los pixeles entre 0 y 1."
   ]
  },
  {
   "cell_type": "code",
   "execution_count": 3,
   "id": "42d5f27c2b368c63",
   "metadata": {
    "ExecuteTime": {
     "end_time": "2024-08-19T01:30:16.598577Z",
     "start_time": "2024-08-19T01:30:15.868518Z"
    }
   },
   "outputs": [],
   "source": [
    "x_train_noisy = x_train + noise_rate * np.random.normal(loc=0.0, scale=1.0, size=x_train.shape)\n",
    "x_test_noisy = x_test + noise_rate * np.random.normal(loc=0.0, scale=1.0, size=x_test.shape)\n",
    "x_train_noisy = np.clip(x_train_noisy, 0.0, 1.0)\n",
    "x_test_noisy = np.clip(x_test_noisy, 0.0, 1.0)"
   ]
  },
  {
   "cell_type": "markdown",
   "id": "26bd6a19b66a3420",
   "metadata": {},
   "source": [
    "Se redimensionan los datos de entrenamiento y de prueba. Se redimensionan los datos de entrenamiento y de prueba para que tengan la forma (número de imágenes, número de pixeles). También se verifica que los datos de entrenamiento y de prueba tengan la misma cantidad de pixeles."
   ]
  },
  {
   "cell_type": "code",
   "execution_count": 4,
   "id": "31a7996531e97204",
   "metadata": {
    "ExecuteTime": {
     "end_time": "2024-08-19T01:30:16.601688Z",
     "start_time": "2024-08-19T01:30:16.599375Z"
    }
   },
   "outputs": [],
   "source": [
    "x_train = x_train.reshape((len(x_train), np.prod(x_train.shape[1:])))\n",
    "x_test = x_test.reshape((len(x_test), np.prod(x_test.shape[1:])))\n",
    "x_train_noisy = x_train_noisy.reshape((len(x_train_noisy), np.prod(x_train_noisy.shape[1:])))\n",
    "x_test_noisy = x_test_noisy.reshape((len(x_test_noisy), np.prod(x_test_noisy.shape[1:])))\n",
    "assert x_train_noisy.shape[1] == x_test_noisy.shape[1]"
   ]
  },
  {
   "cell_type": "markdown",
   "id": "2ba73bb58428d5cd",
   "metadata": {},
   "source": [
    "Se define la arquitectura del autoencoder con tres capas de codificación y tres capas de decodificación. Las capas de codificación tienen 128, 64 y 32 neuronas respectivamente. Las capas de decodificación tienen 64, 128 y 784 neuronas respectivamente. "
   ]
  },
  {
   "cell_type": "code",
   "execution_count": 5,
   "id": "ad4942979d6358f0",
   "metadata": {
    "ExecuteTime": {
     "end_time": "2024-08-19T01:32:35.229416Z",
     "start_time": "2024-08-19T01:30:16.602085Z"
    }
   },
   "outputs": [
    {
     "name": "stderr",
     "output_type": "stream",
     "text": [
      "2024-08-18 19:30:16.608111: I tensorflow/stream_executor/platform/default/dso_loader.cc:44] Successfully opened dynamic library libcuda.so.1\n",
      "2024-08-18 19:30:16.621956: I tensorflow/stream_executor/cuda/cuda_gpu_executor.cc:981] successful NUMA node read from SysFS had negative value (-1), but there must be at least one NUMA node, so returning NUMA node zero\n",
      "2024-08-18 19:30:16.623961: I tensorflow/core/common_runtime/gpu/gpu_device.cc:1561] Found device 0 with properties: \n",
      "pciBusID: 0000:01:00.0 name: NVIDIA GeForce RTX 4090 computeCapability: 8.9\n",
      "coreClock: 2.52GHz coreCount: 128 deviceMemorySize: 23.42GiB deviceMemoryBandwidth: 938.86GiB/s\n",
      "2024-08-18 19:30:16.624052: I tensorflow/stream_executor/platform/default/dso_loader.cc:44] Successfully opened dynamic library libcudart.so.10.1\n",
      "2024-08-18 19:30:16.624785: I tensorflow/stream_executor/platform/default/dso_loader.cc:44] Successfully opened dynamic library libcublas.so.10\n",
      "2024-08-18 19:30:16.635515: I tensorflow/stream_executor/platform/default/dso_loader.cc:44] Successfully opened dynamic library libcufft.so.10\n",
      "2024-08-18 19:30:16.635693: I tensorflow/stream_executor/platform/default/dso_loader.cc:44] Successfully opened dynamic library libcurand.so.10\n",
      "2024-08-18 19:30:16.636431: I tensorflow/stream_executor/platform/default/dso_loader.cc:44] Successfully opened dynamic library libcusolver.so.10\n",
      "2024-08-18 19:30:16.636807: I tensorflow/stream_executor/platform/default/dso_loader.cc:44] Successfully opened dynamic library libcusparse.so.10\n",
      "2024-08-18 19:30:16.638360: I tensorflow/stream_executor/platform/default/dso_loader.cc:44] Successfully opened dynamic library libcudnn.so.7\n",
      "2024-08-18 19:30:16.638403: I tensorflow/stream_executor/cuda/cuda_gpu_executor.cc:981] successful NUMA node read from SysFS had negative value (-1), but there must be at least one NUMA node, so returning NUMA node zero\n",
      "2024-08-18 19:30:16.640081: I tensorflow/stream_executor/cuda/cuda_gpu_executor.cc:981] successful NUMA node read from SysFS had negative value (-1), but there must be at least one NUMA node, so returning NUMA node zero\n",
      "2024-08-18 19:30:16.641829: I tensorflow/core/common_runtime/gpu/gpu_device.cc:1703] Adding visible gpu devices: 0\n",
      "2024-08-18 19:30:16.642083: I tensorflow/core/platform/cpu_feature_guard.cc:143] Your CPU supports instructions that this TensorFlow binary was not compiled to use: AVX2 FMA\n",
      "2024-08-18 19:30:16.645493: I tensorflow/core/platform/profile_utils/cpu_utils.cc:102] CPU Frequency: 3187200000 Hz\n",
      "2024-08-18 19:30:16.646077: I tensorflow/compiler/xla/service/service.cc:168] XLA service 0x7523dc000b70 initialized for platform Host (this does not guarantee that XLA will be used). Devices:\n",
      "2024-08-18 19:30:16.646083: I tensorflow/compiler/xla/service/service.cc:176]   StreamExecutor device (0): Host, Default Version\n",
      "2024-08-18 19:30:16.742021: I tensorflow/stream_executor/cuda/cuda_gpu_executor.cc:981] successful NUMA node read from SysFS had negative value (-1), but there must be at least one NUMA node, so returning NUMA node zero\n",
      "2024-08-18 19:30:16.743318: I tensorflow/compiler/xla/service/service.cc:168] XLA service 0x641bb047f620 initialized for platform CUDA (this does not guarantee that XLA will be used). Devices:\n",
      "2024-08-18 19:30:16.743327: I tensorflow/compiler/xla/service/service.cc:176]   StreamExecutor device (0): NVIDIA GeForce RTX 4090, Compute Capability 8.9\n",
      "2024-08-18 19:30:16.743424: I tensorflow/stream_executor/cuda/cuda_gpu_executor.cc:981] successful NUMA node read from SysFS had negative value (-1), but there must be at least one NUMA node, so returning NUMA node zero\n",
      "2024-08-18 19:30:16.744585: I tensorflow/core/common_runtime/gpu/gpu_device.cc:1561] Found device 0 with properties: \n",
      "pciBusID: 0000:01:00.0 name: NVIDIA GeForce RTX 4090 computeCapability: 8.9\n",
      "coreClock: 2.52GHz coreCount: 128 deviceMemorySize: 23.42GiB deviceMemoryBandwidth: 938.86GiB/s\n",
      "2024-08-18 19:30:16.744597: I tensorflow/stream_executor/platform/default/dso_loader.cc:44] Successfully opened dynamic library libcudart.so.10.1\n",
      "2024-08-18 19:30:16.744601: I tensorflow/stream_executor/platform/default/dso_loader.cc:44] Successfully opened dynamic library libcublas.so.10\n",
      "2024-08-18 19:30:16.744605: I tensorflow/stream_executor/platform/default/dso_loader.cc:44] Successfully opened dynamic library libcufft.so.10\n",
      "2024-08-18 19:30:16.744608: I tensorflow/stream_executor/platform/default/dso_loader.cc:44] Successfully opened dynamic library libcurand.so.10\n",
      "2024-08-18 19:30:16.744612: I tensorflow/stream_executor/platform/default/dso_loader.cc:44] Successfully opened dynamic library libcusolver.so.10\n",
      "2024-08-18 19:30:16.744615: I tensorflow/stream_executor/platform/default/dso_loader.cc:44] Successfully opened dynamic library libcusparse.so.10\n",
      "2024-08-18 19:30:16.744619: I tensorflow/stream_executor/platform/default/dso_loader.cc:44] Successfully opened dynamic library libcudnn.so.7\n",
      "2024-08-18 19:30:16.744634: I tensorflow/stream_executor/cuda/cuda_gpu_executor.cc:981] successful NUMA node read from SysFS had negative value (-1), but there must be at least one NUMA node, so returning NUMA node zero\n",
      "2024-08-18 19:30:16.745739: I tensorflow/stream_executor/cuda/cuda_gpu_executor.cc:981] successful NUMA node read from SysFS had negative value (-1), but there must be at least one NUMA node, so returning NUMA node zero\n",
      "2024-08-18 19:30:16.746886: I tensorflow/core/common_runtime/gpu/gpu_device.cc:1703] Adding visible gpu devices: 0\n",
      "2024-08-18 19:30:16.746894: I tensorflow/stream_executor/platform/default/dso_loader.cc:44] Successfully opened dynamic library libcudart.so.10.1\n",
      "2024-08-18 19:30:16.748147: I tensorflow/core/common_runtime/gpu/gpu_device.cc:1102] Device interconnect StreamExecutor with strength 1 edge matrix:\n",
      "2024-08-18 19:30:16.748149: I tensorflow/core/common_runtime/gpu/gpu_device.cc:1108]      0 \n",
      "2024-08-18 19:30:16.748150: I tensorflow/core/common_runtime/gpu/gpu_device.cc:1121] 0:   N \n",
      "2024-08-18 19:30:16.748174: I tensorflow/stream_executor/cuda/cuda_gpu_executor.cc:981] successful NUMA node read from SysFS had negative value (-1), but there must be at least one NUMA node, so returning NUMA node zero\n",
      "2024-08-18 19:30:16.749415: I tensorflow/stream_executor/cuda/cuda_gpu_executor.cc:981] successful NUMA node read from SysFS had negative value (-1), but there must be at least one NUMA node, so returning NUMA node zero\n",
      "2024-08-18 19:30:16.750553: I tensorflow/core/common_runtime/gpu/gpu_device.cc:1247] Created TensorFlow device (/job:localhost/replica:0/task:0/device:GPU:0 with 20870 MB memory) -> physical GPU (device: 0, name: NVIDIA GeForce RTX 4090, pci bus id: 0000:01:00.0, compute capability: 8.9)\n"
     ]
    }
   ],
   "source": [
    "inputs = Input(shape=(x_train_noisy.shape[1],))\n",
    "encode1 = Dense(128, activation='relu')(inputs)\n",
    "encode2 = Dense(64, activation='tanh')(encode1)\n",
    "encode3 = Dense(32, activation='relu')(encode2)\n",
    "decode3 = Dense(64, activation='relu')(encode3)\n",
    "decode2 = Dense(128, activation='sigmoid')(decode3)\n",
    "decode1 = Dense(x_train_noisy.shape[1], activation='relu')(decode2)"
   ]
  },
  {
   "cell_type": "markdown",
   "id": "e7efb0c42ecd2744",
   "metadata": {},
   "source": [
    "Se compila el autoencoder con el optimizador 'sgd' y la función de pérdida 'mean_squared_error'. Se entrena el autoencoder con los datos de entrenamiento y se evalúa con los datos de prueba. Se imprimen los resultados de la evaluación."
   ]
  },
  {
   "cell_type": "code",
   "execution_count": 6,
   "id": "9a8205309cd215d6",
   "metadata": {
    "ExecuteTime": {
     "end_time": "2024-08-19T01:33:52.061891Z",
     "start_time": "2024-08-19T01:33:04.788872Z"
    }
   },
   "outputs": [
    {
     "name": "stdout",
     "output_type": "stream",
     "text": [
      "Epoch 1/5\n"
     ]
    },
    {
     "name": "stderr",
     "output_type": "stream",
     "text": [
      "2024-08-18 19:33:04.994616: I tensorflow/stream_executor/platform/default/dso_loader.cc:44] Successfully opened dynamic library libcublas.so.10\n"
     ]
    },
    {
     "name": "stdout",
     "output_type": "stream",
     "text": [
      "235/235 [==============================] - 0s 935us/step - loss: 0.1132 - accuracy: 0.0012\n",
      "Epoch 2/5\n",
      "235/235 [==============================] - 0s 917us/step - loss: 0.1048 - accuracy: 0.0012\n",
      "Epoch 3/5\n",
      "235/235 [==============================] - 0s 893us/step - loss: 0.0991 - accuracy: 0.0013\n",
      "Epoch 4/5\n",
      "235/235 [==============================] - 0s 893us/step - loss: 0.0952 - accuracy: 0.0033\n",
      "Epoch 5/5\n",
      "235/235 [==============================] - 0s 899us/step - loss: 0.0926 - accuracy: 0.0035\n"
     ]
    },
    {
     "data": {
      "text/plain": [
       "<tensorflow.python.keras.callbacks.History at 0x75250b88ba90>"
      ]
     },
     "execution_count": 6,
     "metadata": {},
     "output_type": "execute_result"
    }
   ],
   "source": [
    "autoencoder = Model(inputs, decode1)\n",
    "autoencoder.compile(optimizer='sgd', loss='mean_squared_error',metrics=['accuracy'])\n",
    "autoencoder.fit(x_train,x_train,epochs=5,batch_size=256,shuffle=True)"
   ]
  },
  {
   "cell_type": "markdown",
   "id": "cc582dcfd920c8dc",
   "metadata": {},
   "source": [
    "Se evalúa el autoencoder con los datos de prueba y se imprimen los resultados de la evaluación. Se obtienen los pesos del autoencoder y se guardan en un archivo."
   ]
  },
  {
   "cell_type": "code",
   "execution_count": 7,
   "id": "b3e09adc63a1bbda",
   "metadata": {
    "ExecuteTime": {
     "end_time": "2024-08-19T02:38:16.400343Z",
     "start_time": "2024-08-19T02:38:16.053040Z"
    }
   },
   "outputs": [
    {
     "name": "stdout",
     "output_type": "stream",
     "text": [
      "313/313 [==============================] - 0s 424us/step - loss: 0.0927 - accuracy: 0.0035\n",
      "\n",
      "accuracy:0.35%\n",
      "\n",
      "[(784, 128), (128,), (128, 64), (64,), (64, 32), (32,), (32, 64), (64,), (64, 128), (128,), (128, 784), (784,)]\n",
      "(32, 64)\n"
     ]
    }
   ],
   "source": [
    "metrics = autoencoder.evaluate(x_test_noisy, x_test, verbose=1)\n",
    "print()\n",
    "print(\"%s:%.2f%%\" % (autoencoder.metrics_names[1], metrics[1]*100))\n",
    "print()\n",
    "results = autoencoder.predict(x_test)\n",
    "all_AE_weights_shapes = [x.shape for x in autoencoder.get_weights()]\n",
    "print(all_AE_weights_shapes)\n",
    "ww=len(all_AE_weights_shapes)\n",
    "deeply_encoded_MNIST_weight_matrix = autoencoder.get_weights()[int((ww/2))]\n",
    "print(deeply_encoded_MNIST_weight_matrix.shape)\n",
    "autoencoder.save_weights(\"all_AE_weights.h5\")"
   ]
  },
  {
   "cell_type": "markdown",
   "id": "d8ca673b6fc8bcb4",
   "metadata": {},
   "source": [
    "Se obtiene una precisión del 35% con los datos de prueba."
   ]
  }
 ],
 "metadata": {
  "kernelspec": {
   "display_name": "gan",
   "language": "python",
   "name": "gan"
  },
  "language_info": {
   "codemirror_mode": {
    "name": "ipython",
    "version": 2
   },
   "file_extension": ".py",
   "mimetype": "text/x-python",
   "name": "python",
   "nbconvert_exporter": "python",
   "pygments_lexer": "ipython2",
   "version": "2.7.6"
  }
 },
 "nbformat": 4,
 "nbformat_minor": 5
}
