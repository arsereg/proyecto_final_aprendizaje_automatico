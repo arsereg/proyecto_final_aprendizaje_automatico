{
 "cells": [
  {
   "cell_type": "markdown",
   "id": "440ea5456ecf403a",
   "metadata": {},
   "source": [
    "# Parte 3\n",
    "Elaboración de autoencoders"
   ]
  },
  {
   "cell_type": "markdown",
   "id": "366eebda7042a70c",
   "metadata": {},
   "source": [
    "Acá se importan las librerías necesarias. También se importa el dataset MNIST.\n",
    "\n",
    "También cargamos el dataset Fashion MNIST y lo concatenamos con el dataset MNIST.\n",
    "Luego de esto se mezclan los datos de entrenamiento y de prueba.\n",
    "Se redimensionan los datos y se normalizan."
   ]
  },
  {
   "cell_type": "code",
   "execution_count": null,
   "id": "initial_id",
   "metadata": {},
   "outputs": [],
   "source": [
    "import tensorflow as tf\n",
    "\n",
    "import matplotlib.pyplot as plt\n",
    "import numpy as np\n",
    "import pandas as pd\n",
    "\n",
    "from sklearn.metrics import accuracy_score, precision_score, recall_score\n",
    "from sklearn.model_selection import train_test_split\n",
    "from tensorflow.keras import layers, losses\n",
    "from tensorflow.keras.datasets import fashion_mnist\n",
    "from tensorflow.keras.models import Model\n",
    "from tensorflow.keras.optimizers import Adam\n",
    "\n",
    "try:\n",
    "    # Disable all GPUS\n",
    "    tf.config.set_visible_devices([], 'GPU')\n",
    "    visible_devices = tf.config.get_visible_devices()\n",
    "    for device in visible_devices:\n",
    "        assert device.device_type != 'GPU'\n",
    "except:\n",
    "    # Invalid device or cannot modify virtual devices once initialized.\n",
    "    pass\n",
    "\n",
    "#import fashion_mnist\n",
    "from tensorflow.keras.datasets import fashion_mnist, mnist\n",
    "(x_train_fashion, _), (x_test_fashion, _) = fashion_mnist.load_data()\n",
    "(x_train_mnist, _), (x_test_mnist, _) = mnist.load_data()\n",
    "\n",
    "# merge datasets\n",
    "x_train = np.concatenate((x_train_fashion, x_train_mnist), axis=0)\n",
    "x_test = np.concatenate((x_test_fashion, x_test_mnist), axis=0)\n",
    "\n",
    "x_train = x_train_mnist\n",
    "x_test = x_test_mnist\n",
    "\n",
    "# shuffle dataset\n",
    "np.random.shuffle(x_train)\n",
    "np.random.shuffle(x_test)\n",
    "\n",
    "# reshape dataset\n",
    "x_train = x_train.reshape(x_train.shape[0], 28, 28, 1).astype('float32')\n",
    "x_test = x_test.reshape(x_test.shape[0], 28, 28, 1).astype('float32')\n",
    "\n",
    "# normalize dataset\n",
    "x_train = x_train.astype('float32') / 255.\n",
    "x_test = x_test.astype('float32') / 255.\n",
    "\n",
    "gpu_available = tf.config.list_physical_devices('GPU')\n",
    "    \n",
    "print(gpu_available)\n"
   ]
  },
  {
   "cell_type": "code",
   "execution_count": null,
   "id": "79de0d0a19a20dd2",
   "metadata": {},
   "outputs": [],
   "source": [
    "n = 10\n",
    "plt.figure(figsize=(20, 2))\n",
    "for i in range(n):\n",
    "    ax = plt.subplot(1, n, i + 1)\n",
    "    plt.title(\"original\")\n",
    "    plt.imshow(tf.squeeze(x_train[i]))\n",
    "    plt.gray()\n",
    "plt.show()"
   ]
  },
  {
   "cell_type": "markdown",
   "id": "360d69dd215cda95",
   "metadata": {},
   "source": []
  },
  {
   "cell_type": "markdown",
   "id": "ebbdf5a01245565c",
   "metadata": {},
   "source": [
    "# Autoencoder\n",
    "\n",
    "Para crear el autoencoder primero generaremos ruido y lo uniremos a las imágenes originales."
   ]
  },
  {
   "cell_type": "code",
   "execution_count": null,
   "id": "c08be7a94fed2041",
   "metadata": {},
   "outputs": [],
   "source": [
    "noise_factor = 0.2\n",
    "x_train_noisy = x_train + noise_factor * tf.random.normal(shape=x_train.shape)\n",
    "x_test_noisy = x_test + noise_factor * tf.random.normal(shape=x_test.shape)\n",
    "\n",
    "x_train_noisy = tf.clip_by_value(x_train_noisy, clip_value_min=0., clip_value_max=1.)\n",
    "x_test_noisy = tf.clip_by_value(x_test_noisy, clip_value_min=0., clip_value_max=1.)"
   ]
  },
  {
   "cell_type": "code",
   "execution_count": null,
   "id": "9b069a60ad74da65",
   "metadata": {},
   "outputs": [],
   "source": [
    "n = 10\n",
    "plt.figure(figsize=(20, 2))\n",
    "for i in range(n):\n",
    "    ax = plt.subplot(1, n, i + 1)\n",
    "    plt.title(\"original + noise\")\n",
    "    plt.imshow(tf.squeeze(x_test_noisy[i]))\n",
    "    plt.gray()\n",
    "plt.show()"
   ]
  },
  {
   "cell_type": "markdown",
   "id": "8fca1b09af431750",
   "metadata": {},
   "source": [
    "# Creación del modelo\n",
    "\n",
    "Se crea el modelo con una capa de entrada, una capa convolucional, una capa de pooling, una capa convolucional y una capa de pooling."
   ]
  },
  {
   "cell_type": "code",
   "execution_count": null,
   "id": "a6acaf52c99ad9a",
   "metadata": {},
   "outputs": [],
   "source": [
    "\n",
    "class Denoise(Model):\n",
    "  def __init__(self):\n",
    "    super(Denoise, self).__init__()\n",
    "    self.encoder = tf.keras.Sequential([\n",
    "      layers.Input(shape=(28, 28, 1)),\n",
    "      layers.Conv2D(16, (3, 3), activation='relu', padding='same', strides=2),\n",
    "      layers.Conv2D(8, (3, 3), activation='relu', padding='same', strides=2)])\n",
    "\n",
    "    self.decoder = tf.keras.Sequential([\n",
    "      layers.Conv2DTranspose(8, kernel_size=3, strides=2, activation='relu', padding='same'),\n",
    "      layers.Conv2DTranspose(16, kernel_size=3, strides=2, activation='relu', padding='same'),\n",
    "      layers.Conv2D(1, kernel_size=(3, 3), activation='sigmoid', padding='same')])\n",
    "\n",
    "  def call(self, x):\n",
    "    encoded = self.encoder(x)\n",
    "    decoded = self.decoder(encoded)\n",
    "    return decoded\n",
    "\n",
    "autoencoder = Denoise()"
   ]
  },
  {
   "cell_type": "markdown",
   "id": "3a2af07f08349f2b",
   "metadata": {},
   "source": [
    "# Compilación del modelo"
   ]
  },
  {
   "cell_type": "code",
   "execution_count": null,
   "id": "a4f050390a9ad4e2",
   "metadata": {},
   "outputs": [],
   "source": [
    "autoencoder.compile(optimizer='adam', loss=losses.MeanSquaredError())"
   ]
  },
  {
   "cell_type": "markdown",
   "id": "78b12c5997211c6e",
   "metadata": {},
   "source": [
    "# Entrenamiento del modelo"
   ]
  },
  {
   "cell_type": "code",
   "execution_count": null,
   "id": "49c0fea498f501a5",
   "metadata": {
    "jupyter": {
     "is_executing": true
    }
   },
   "outputs": [],
   "source": [
    "autoencoder.fit(x_train_noisy, x_train,\n",
    "                epochs=50,\n",
    "                validation_data=(x_test_noisy, x_test))"
   ]
  },
  {
   "cell_type": "code",
   "execution_count": null,
   "id": "9ffe8a25903828d1",
   "metadata": {
    "jupyter": {
     "is_executing": true
    }
   },
   "outputs": [],
   "source": [
    "autoencoder.encoder.summary()"
   ]
  },
  {
   "cell_type": "code",
   "execution_count": null,
   "id": "5e4ec04c7196c9a2",
   "metadata": {
    "jupyter": {
     "is_executing": true
    }
   },
   "outputs": [],
   "source": [
    "autoencoder.decoder.summary()"
   ]
  },
  {
   "cell_type": "markdown",
   "id": "2ef51f55a91e4944",
   "metadata": {},
   "source": [
    "Veamos cómo se ven las imágenes después de pasar por el autoencoder"
   ]
  },
  {
   "cell_type": "code",
   "execution_count": null,
   "id": "234372a634153a67",
   "metadata": {
    "jupyter": {
     "is_executing": true
    }
   },
   "outputs": [],
   "source": [
    "encoded_imgs = autoencoder.encoder(x_test_noisy).numpy()\n",
    "decoded_imgs = autoencoder.decoder(encoded_imgs).numpy()\n",
    "\n",
    "n = 10\n",
    "plt.figure(figsize=(20, 4))\n",
    "for i in range(n):\n",
    "\n",
    "    # display original + noise\n",
    "    ax = plt.subplot(2, n, i + 1)\n",
    "    plt.title(\"original + noise\")\n",
    "    plt.imshow(tf.squeeze(x_test_noisy[i]))\n",
    "    plt.gray()\n",
    "    ax.get_xaxis().set_visible(False)\n",
    "    ax.get_yaxis().set_visible(False)\n",
    "\n",
    "    # display reconstruction\n",
    "    bx = plt.subplot(2, n, i + n + 1)\n",
    "    plt.title(\"reconstructed\")\n",
    "    plt.imshow(tf.squeeze(decoded_imgs[i]))\n",
    "    plt.gray()\n",
    "    bx.get_xaxis().set_visible(False)\n",
    "    bx.get_yaxis().set_visible(False)\n",
    "plt.show()"
   ]
  },
  {
   "cell_type": "markdown",
   "id": "2656c53887a9a036",
   "metadata": {},
   "source": [
    "Observamos que las imágenes se ven bastante bien después de pasar por el autoencoder.\n",
    "\n",
    "Ahora para realizar la última prueba, se realizarán pruebas con imagenes con ruido extremo."
   ]
  },
  {
   "cell_type": "code",
   "execution_count": null,
   "id": "cd0930b8075e83a7",
   "metadata": {
    "jupyter": {
     "is_executing": true
    }
   },
   "outputs": [],
   "source": [
    "extreme_noise_factor = 0.75\n",
    "x_train_noisy = x_train + extreme_noise_factor * tf.random.normal(shape=x_train.shape)\n",
    "x_test_noisy = x_test + extreme_noise_factor * tf.random.normal(shape=x_test.shape)\n",
    "\n",
    "x_train_noisy = tf.clip_by_value(x_train_noisy, clip_value_min=0., clip_value_max=1.)\n",
    "x_test_noisy = tf.clip_by_value(x_test_noisy, clip_value_min=0., clip_value_max=1.)"
   ]
  },
  {
   "cell_type": "markdown",
   "id": "f516395bf1dd7287",
   "metadata": {},
   "source": [
    "Utilizaremos el autoencoder para intentar eliminar el ruido de las imágenes."
   ]
  },
  {
   "cell_type": "code",
   "execution_count": null,
   "id": "626aa3b8752c5dd3",
   "metadata": {
    "jupyter": {
     "is_executing": true
    }
   },
   "outputs": [],
   "source": [
    "encoded_imgs = autoencoder.encoder(x_test_noisy).numpy()\n",
    "decoded_imgs = autoencoder.decoder(encoded_imgs).numpy()\n",
    "\n",
    "n = 10\n",
    "plt.figure(figsize=(20, 4))\n",
    "\n",
    "for i in range(n):\n",
    "    # display original + noise\n",
    "    ax = plt.subplot(2, n, i + 1)\n",
    "    plt.title(\"original + noise\")\n",
    "    plt.imshow(tf.squeeze(x_test_noisy[i]))\n",
    "    plt.gray()\n",
    "    ax.get_xaxis().set_visible(False)\n",
    "    ax.get_yaxis().set_visible(False)\n",
    "\n",
    "    # display reconstruction\n",
    "    bx = plt.subplot(2, n, i + n + 1)\n",
    "    plt.title(\"reconstructed\")\n",
    "    plt.imshow(tf.squeeze(decoded_imgs[i]))\n",
    "    plt.gray()\n",
    "    bx.get_xaxis().set_visible(False)\n",
    "    bx.get_yaxis().set_visible(False)"
   ]
  }
 ],
 "metadata": {
  "kernelspec": {
   "display_name": "Python 3 (ipykernel)",
   "language": "python",
   "name": "python3"
  },
  "language_info": {
   "codemirror_mode": {
    "name": "ipython",
    "version": 2
   },
   "file_extension": ".py",
   "mimetype": "text/x-python",
   "name": "python",
   "nbconvert_exporter": "python",
   "pygments_lexer": "ipython2",
   "version": "2.7.6"
  }
 },
 "nbformat": 4,
 "nbformat_minor": 5
}
